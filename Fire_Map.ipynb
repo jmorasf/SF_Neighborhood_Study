{
 "cells": [
  {
   "cell_type": "markdown",
   "metadata": {},
   "source": [
    "## Property Prices in San Francisco\n",
    "\n",
    "* Determine variation in property prices by Supervisor District\n",
    "\n",
    "* Any correlation between prices and police/fire/311 activity\n"
   ]
  },
  {
   "cell_type": "code",
   "execution_count": 7,
   "metadata": {},
   "outputs": [],
   "source": [
    "# Dependencies and Setup\n",
    "\n",
    "import pandas as pd\n",
    "import numpy as np\n",
    "import matplotlib.pyplot as plt\n",
    "from IPython.display import display, HTML\n",
    "\n",
    "pd.options.display.float_format = '{0:,.3f}'.format\n",
    "pd.set_option('display.max_columns', 500)\n",
    "\n",
    "# File to Load \n",
    "geo_data_to_load = \"Fire_Geo.csv\"\n",
    "\n",
    "# Read Secured Property Tax Rolls - Data is not very clean - Define all data type for faster processing\n",
    "\n",
    "geo_data = pd.read_csv(geo_data_to_load)\n"
   ]
  },
  {
   "cell_type": "code",
   "execution_count": 29,
   "metadata": {},
   "outputs": [],
   "source": [
    "# Review the data\n",
    "\n",
    "geo_data.head()\n",
    "\n",
    "geo_slice = geo_data.loc[(geo_data[\"Latitude\"] >= 0) \n",
    "                              & (geo_data[\"Longitude\"] <= 0)]"
   ]
  },
  {
   "cell_type": "code",
   "execution_count": 30,
   "metadata": {},
   "outputs": [
    {
     "name": "stdout",
     "output_type": "stream",
     "text": [
      "9094\n"
     ]
    }
   ],
   "source": [
    "# Calculate total tax value - sort by Close Roll Year\n",
    "#my_df['event_time'] = my_df[['event','time']].apply(tuple, axis=1)\n",
    "# Put coordinates of these properties into a list (a list of tuples)\n",
    "point_list = []\n",
    "\n",
    "point_list = geo_slice[['Latitude','Longitude']].apply(tuple, axis=1)\n",
    "#for i in range(len(geo_data)):\n",
    "#    point_list.append([geo_data.iloc(i)[\"Latitude\"],geo_data.iloc(i)[\"Longitude\"]])\n",
    "print (len(point_list))"
   ]
  },
  {
   "cell_type": "code",
   "execution_count": 36,
   "metadata": {},
   "outputs": [],
   "source": [
    "# Set up the Google Maps API Call\n",
    "import requests\n",
    "import json\n",
    "\n",
    "# Google developer API key\n",
    "from config import gkey\n",
    "import gmaps\n",
    "\n",
    "gmaps.configure(api_key=gkey)\n",
    "\n",
    "# Customize the size of the figure\n",
    "figure_layout = {\n",
    "    'width': '800px',\n",
    "    'height': '600px',\n",
    "    'border': '1px solid black',\n",
    "    'padding': '1px',\n",
    "    'margin': '0 auto 0 auto'\n",
    "}\n",
    "fig = gmaps.figure(layout=figure_layout)\n",
    "\n",
    "weights = list(geo_slice[\"Count_Inc\"])"
   ]
  },
  {
   "cell_type": "code",
   "execution_count": 35,
   "metadata": {},
   "outputs": [
    {
     "data": {
      "application/vnd.jupyter.widget-view+json": {
       "model_id": "c5e3f9bc713e4815899db26876176309",
       "version_major": 2,
       "version_minor": 0
      },
      "text/plain": [
       "Figure(layout=FigureLayout(height='420px'))"
      ]
     },
     "metadata": {},
     "output_type": "display_data"
    }
   ],
   "source": [
    "fig = gmaps.figure()\n",
    "fig.add_layer(gmaps.heatmap_layer(locations=point_list,weights=weights,point_radius=10))\n",
    "fig"
   ]
  }
 ],
 "metadata": {
  "anaconda-cloud": {},
  "kernel_info": {
   "name": "python3"
  },
  "kernelspec": {
   "display_name": "Python 3",
   "language": "python",
   "name": "python3"
  },
  "language_info": {
   "codemirror_mode": {
    "name": "ipython",
    "version": 3
   },
   "file_extension": ".py",
   "mimetype": "text/x-python",
   "name": "python",
   "nbconvert_exporter": "python",
   "pygments_lexer": "ipython3",
   "version": "3.7.3"
  },
  "nteract": {
   "version": "0.8.4"
  }
 },
 "nbformat": 4,
 "nbformat_minor": 1
}
