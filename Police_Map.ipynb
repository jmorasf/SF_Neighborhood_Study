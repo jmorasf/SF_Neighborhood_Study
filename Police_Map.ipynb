{
 "cells": [
  {
   "cell_type": "markdown",
   "metadata": {},
   "source": [
    "## Generic way to create a heatmap using weighted points\n",
    "\n"
   ]
  },
  {
   "cell_type": "code",
   "execution_count": 1,
   "metadata": {},
   "outputs": [],
   "source": [
    "# Dependencies and Setup\n",
    "\n",
    "import pandas as pd\n",
    "import numpy as np\n",
    "import matplotlib.pyplot as plt\n",
    "from IPython.display import display, HTML\n",
    "\n",
    "pd.options.display.float_format = '{0:,.3f}'.format\n",
    "pd.set_option('display.max_columns', 500)\n",
    "\n",
    "# File to Load \n",
    "geo_data_to_load = \"Police_Geo.csv\"\n",
    "\n",
    "geo_data = pd.read_csv(geo_data_to_load)\n"
   ]
  },
  {
   "cell_type": "code",
   "execution_count": 2,
   "metadata": {},
   "outputs": [
    {
     "data": {
      "text/html": [
       "<div>\n",
       "<style scoped>\n",
       "    .dataframe tbody tr th:only-of-type {\n",
       "        vertical-align: middle;\n",
       "    }\n",
       "\n",
       "    .dataframe tbody tr th {\n",
       "        vertical-align: top;\n",
       "    }\n",
       "\n",
       "    .dataframe thead th {\n",
       "        text-align: right;\n",
       "    }\n",
       "</style>\n",
       "<table border=\"1\" class=\"dataframe\">\n",
       "  <thead>\n",
       "    <tr style=\"text-align: right;\">\n",
       "      <th></th>\n",
       "      <th>IncidntNum</th>\n",
       "      <th>Category</th>\n",
       "      <th>Descript</th>\n",
       "      <th>DayOfWeek</th>\n",
       "      <th>Date</th>\n",
       "      <th>Time</th>\n",
       "      <th>PdDistrict</th>\n",
       "      <th>Resolution</th>\n",
       "      <th>Address</th>\n",
       "      <th>X</th>\n",
       "      <th>Y</th>\n",
       "      <th>Location</th>\n",
       "      <th>PdId</th>\n",
       "      <th>long</th>\n",
       "      <th>lat</th>\n",
       "    </tr>\n",
       "  </thead>\n",
       "  <tbody>\n",
       "    <tr>\n",
       "      <th>0</th>\n",
       "      <td>180000417</td>\n",
       "      <td>ASSAULT</td>\n",
       "      <td>BATTERY</td>\n",
       "      <td>Sunday</td>\n",
       "      <td>12/31/2017</td>\n",
       "      <td>23:58</td>\n",
       "      <td>SOUTHERN</td>\n",
       "      <td>NONE</td>\n",
       "      <td>800 Block of BRYANT ST</td>\n",
       "      <td>-122.403</td>\n",
       "      <td>37.775</td>\n",
       "      <td>(37.775420706711, -122.40340479147905)</td>\n",
       "      <td>18000041704134</td>\n",
       "      <td>-122.403</td>\n",
       "      <td>37.775</td>\n",
       "    </tr>\n",
       "    <tr>\n",
       "      <th>1</th>\n",
       "      <td>180000069</td>\n",
       "      <td>ASSAULT</td>\n",
       "      <td>AGGRAVATED ASSAULT WITH A KNIFE</td>\n",
       "      <td>Sunday</td>\n",
       "      <td>12/31/2017</td>\n",
       "      <td>23:56</td>\n",
       "      <td>TENDERLOIN</td>\n",
       "      <td>ARREST, BOOKED</td>\n",
       "      <td>500 Block of JONES ST</td>\n",
       "      <td>-122.413</td>\n",
       "      <td>37.786</td>\n",
       "      <td>(37.78627745916602, -122.41299907500884)</td>\n",
       "      <td>18000006904012</td>\n",
       "      <td>-122.413</td>\n",
       "      <td>37.786</td>\n",
       "    </tr>\n",
       "    <tr>\n",
       "      <th>2</th>\n",
       "      <td>180000069</td>\n",
       "      <td>BURGLARY</td>\n",
       "      <td>BURGLARY OF APARTMENT HOUSE, FORCIBLE ENTRY</td>\n",
       "      <td>Sunday</td>\n",
       "      <td>12/31/2017</td>\n",
       "      <td>23:56</td>\n",
       "      <td>TENDERLOIN</td>\n",
       "      <td>ARREST, BOOKED</td>\n",
       "      <td>500 Block of JONES ST</td>\n",
       "      <td>-122.413</td>\n",
       "      <td>37.786</td>\n",
       "      <td>(37.78627745916602, -122.41299907500884)</td>\n",
       "      <td>18000006905011</td>\n",
       "      <td>-122.413</td>\n",
       "      <td>37.786</td>\n",
       "    </tr>\n",
       "    <tr>\n",
       "      <th>3</th>\n",
       "      <td>180000069</td>\n",
       "      <td>WEAPON LAWS</td>\n",
       "      <td>EXHIBITING DEADLY WEAPON IN A THREATING MANNER</td>\n",
       "      <td>Sunday</td>\n",
       "      <td>12/31/2017</td>\n",
       "      <td>23:56</td>\n",
       "      <td>TENDERLOIN</td>\n",
       "      <td>ARREST, BOOKED</td>\n",
       "      <td>500 Block of JONES ST</td>\n",
       "      <td>-122.413</td>\n",
       "      <td>37.786</td>\n",
       "      <td>(37.78627745916602, -122.41299907500884)</td>\n",
       "      <td>18000006912030</td>\n",
       "      <td>-122.413</td>\n",
       "      <td>37.786</td>\n",
       "    </tr>\n",
       "    <tr>\n",
       "      <th>4</th>\n",
       "      <td>186005077</td>\n",
       "      <td>LARCENY/THEFT</td>\n",
       "      <td>PETTY THEFT OF PROPERTY</td>\n",
       "      <td>Sunday</td>\n",
       "      <td>12/31/2017</td>\n",
       "      <td>23:55</td>\n",
       "      <td>MISSION</td>\n",
       "      <td>NONE</td>\n",
       "      <td>500 Block of VALENCIA ST</td>\n",
       "      <td>-122.422</td>\n",
       "      <td>37.764</td>\n",
       "      <td>(37.76408889445322, -122.42187648849193)</td>\n",
       "      <td>18600507706372</td>\n",
       "      <td>-122.422</td>\n",
       "      <td>37.764</td>\n",
       "    </tr>\n",
       "  </tbody>\n",
       "</table>\n",
       "</div>"
      ],
      "text/plain": [
       "   IncidntNum       Category                                        Descript  \\\n",
       "0   180000417        ASSAULT                                         BATTERY   \n",
       "1   180000069        ASSAULT                 AGGRAVATED ASSAULT WITH A KNIFE   \n",
       "2   180000069       BURGLARY     BURGLARY OF APARTMENT HOUSE, FORCIBLE ENTRY   \n",
       "3   180000069    WEAPON LAWS  EXHIBITING DEADLY WEAPON IN A THREATING MANNER   \n",
       "4   186005077  LARCENY/THEFT                         PETTY THEFT OF PROPERTY   \n",
       "\n",
       "  DayOfWeek        Date   Time  PdDistrict      Resolution  \\\n",
       "0    Sunday  12/31/2017  23:58    SOUTHERN            NONE   \n",
       "1    Sunday  12/31/2017  23:56  TENDERLOIN  ARREST, BOOKED   \n",
       "2    Sunday  12/31/2017  23:56  TENDERLOIN  ARREST, BOOKED   \n",
       "3    Sunday  12/31/2017  23:56  TENDERLOIN  ARREST, BOOKED   \n",
       "4    Sunday  12/31/2017  23:55     MISSION            NONE   \n",
       "\n",
       "                    Address        X      Y  \\\n",
       "0    800 Block of BRYANT ST -122.403 37.775   \n",
       "1     500 Block of JONES ST -122.413 37.786   \n",
       "2     500 Block of JONES ST -122.413 37.786   \n",
       "3     500 Block of JONES ST -122.413 37.786   \n",
       "4  500 Block of VALENCIA ST -122.422 37.764   \n",
       "\n",
       "                                   Location            PdId     long    lat  \n",
       "0    (37.775420706711, -122.40340479147905)  18000041704134 -122.403 37.775  \n",
       "1  (37.78627745916602, -122.41299907500884)  18000006904012 -122.413 37.786  \n",
       "2  (37.78627745916602, -122.41299907500884)  18000006905011 -122.413 37.786  \n",
       "3  (37.78627745916602, -122.41299907500884)  18000006912030 -122.413 37.786  \n",
       "4  (37.76408889445322, -122.42187648849193)  18600507706372 -122.422 37.764  "
      ]
     },
     "execution_count": 2,
     "metadata": {},
     "output_type": "execute_result"
    }
   ],
   "source": [
    "# Round Geo Data to .001\n",
    "\n",
    "geo_data.head()\n",
    "\n",
    "def q(val):\n",
    "    return round(val,3)\n",
    "\n",
    "geo_data[\"long\"] = geo_data[\"X\"].map(q)\n",
    "geo_data[\"lat\"] = geo_data[\"Y\"].map(q)\n",
    "geo_data.head()"
   ]
  },
  {
   "cell_type": "code",
   "execution_count": 3,
   "metadata": {},
   "outputs": [
    {
     "data": {
      "text/html": [
       "<div>\n",
       "<style scoped>\n",
       "    .dataframe tbody tr th:only-of-type {\n",
       "        vertical-align: middle;\n",
       "    }\n",
       "\n",
       "    .dataframe tbody tr th {\n",
       "        vertical-align: top;\n",
       "    }\n",
       "\n",
       "    .dataframe thead th {\n",
       "        text-align: right;\n",
       "    }\n",
       "</style>\n",
       "<table border=\"1\" class=\"dataframe\">\n",
       "  <thead>\n",
       "    <tr style=\"text-align: right;\">\n",
       "      <th></th>\n",
       "      <th></th>\n",
       "      <th>IncidntNum</th>\n",
       "      <th>lat</th>\n",
       "      <th>long</th>\n",
       "    </tr>\n",
       "    <tr>\n",
       "      <th>lat</th>\n",
       "      <th>long</th>\n",
       "      <th></th>\n",
       "      <th></th>\n",
       "      <th></th>\n",
       "    </tr>\n",
       "  </thead>\n",
       "  <tbody>\n",
       "    <tr>\n",
       "      <th rowspan=\"5\" valign=\"top\">37.708</th>\n",
       "      <th>-122.486</th>\n",
       "      <td>8</td>\n",
       "      <td>37.708</td>\n",
       "      <td>-122.486</td>\n",
       "    </tr>\n",
       "    <tr>\n",
       "      <th>-122.466</th>\n",
       "      <td>6</td>\n",
       "      <td>37.708</td>\n",
       "      <td>-122.466</td>\n",
       "    </tr>\n",
       "    <tr>\n",
       "      <th>-122.461</th>\n",
       "      <td>2</td>\n",
       "      <td>37.708</td>\n",
       "      <td>-122.461</td>\n",
       "    </tr>\n",
       "    <tr>\n",
       "      <th>-122.460</th>\n",
       "      <td>3</td>\n",
       "      <td>37.708</td>\n",
       "      <td>-122.460</td>\n",
       "    </tr>\n",
       "    <tr>\n",
       "      <th>-122.459</th>\n",
       "      <td>1</td>\n",
       "      <td>37.708</td>\n",
       "      <td>-122.459</td>\n",
       "    </tr>\n",
       "  </tbody>\n",
       "</table>\n",
       "</div>"
      ],
      "text/plain": [
       "                 IncidntNum    lat     long\n",
       "lat    long                                \n",
       "37.708 -122.486           8 37.708 -122.486\n",
       "       -122.466           6 37.708 -122.466\n",
       "       -122.461           2 37.708 -122.461\n",
       "       -122.460           3 37.708 -122.460\n",
       "       -122.459           1 37.708 -122.459"
      ]
     },
     "execution_count": 3,
     "metadata": {},
     "output_type": "execute_result"
    }
   ],
   "source": [
    "# Group incidents by rounded coordinates\n",
    "\n",
    "geo_slice_group=geo_data.groupby([\"lat\",\"long\"]).agg(\n",
    "    {\"IncidntNum\" : \"count\",\n",
    "    \"lat\":\"max\",\n",
    "    \"long\":\"max\"})\n",
    "geo_slice_group.head()"
   ]
  },
  {
   "cell_type": "code",
   "execution_count": 4,
   "metadata": {},
   "outputs": [],
   "source": [
    "# Put rounded coordinates into a list of tuples\n",
    "\n",
    "def to_gis (x, y):\n",
    "    yy = ()\n",
    "    yy = yy + (x,)\n",
    "    yy = yy + (y,)\n",
    "    return tuple(yy)\n",
    "\n",
    "point_list = []\n",
    "\n",
    "point_list = geo_slice_group[['lat','long']].apply(tuple, axis=1)"
   ]
  },
  {
   "cell_type": "code",
   "execution_count": 5,
   "metadata": {},
   "outputs": [],
   "source": [
    "# Determine weights for each point\n",
    "\n",
    "weights = list(geo_slice_group[\"IncidntNum\"])"
   ]
  },
  {
   "cell_type": "code",
   "execution_count": 6,
   "metadata": {},
   "outputs": [
    {
     "name": "stdout",
     "output_type": "stream",
     "text": [
      "7983\n"
     ]
    }
   ],
   "source": [
    "# How many points do we have?\n",
    "\n",
    "print (len(point_list))"
   ]
  },
  {
   "cell_type": "code",
   "execution_count": 7,
   "metadata": {},
   "outputs": [],
   "source": [
    "# Set up the Google Maps API Call\n",
    "import requests\n",
    "import json\n",
    "\n",
    "# Google developer API key\n",
    "from config import gkey\n",
    "import gmaps\n",
    "\n",
    "gmaps.configure(api_key=gkey)\n",
    "\n",
    "# Customize the size of the figure\n",
    "figure_layout = {\n",
    "    'width': '800px',\n",
    "    'height': '600px',\n",
    "    'border': '1px solid black',\n",
    "    'padding': '1px',\n",
    "    'margin': '0 auto 0 auto'\n",
    "}\n",
    "fig = gmaps.figure(layout=figure_layout)"
   ]
  },
  {
   "cell_type": "code",
   "execution_count": 8,
   "metadata": {},
   "outputs": [
    {
     "data": {
      "application/vnd.jupyter.widget-view+json": {
       "model_id": "18884bd8895b49ac8d8e4db8b0a7275e",
       "version_major": 2,
       "version_minor": 0
      },
      "text/plain": [
       "Figure(layout=FigureLayout(height='420px'))"
      ]
     },
     "metadata": {},
     "output_type": "display_data"
    }
   ],
   "source": [
    "fig = gmaps.figure()\n",
    "fig.add_layer(gmaps.heatmap_layer(locations=point_list,weights=weights,point_radius=20))\n",
    "fig"
   ]
  },
  {
   "cell_type": "code",
   "execution_count": null,
   "metadata": {},
   "outputs": [],
   "source": []
  }
 ],
 "metadata": {
  "anaconda-cloud": {},
  "kernel_info": {
   "name": "python3"
  },
  "kernelspec": {
   "display_name": "Python 3",
   "language": "python",
   "name": "python3"
  },
  "language_info": {
   "codemirror_mode": {
    "name": "ipython",
    "version": 3
   },
   "file_extension": ".py",
   "mimetype": "text/x-python",
   "name": "python",
   "nbconvert_exporter": "python",
   "pygments_lexer": "ipython3",
   "version": "3.7.3"
  },
  "nteract": {
   "version": "0.8.4"
  }
 },
 "nbformat": 4,
 "nbformat_minor": 1
}
