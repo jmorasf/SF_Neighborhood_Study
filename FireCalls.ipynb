{
 "cells": [
  {
   "cell_type": "markdown",
   "metadata": {},
   "source": [
    "## Fire Department Calls  in San Francisco\n"
   ]
  },
  {
   "cell_type": "code",
   "execution_count": 1,
   "metadata": {},
   "outputs": [],
   "source": [
    "# Dependencies and Setup\n",
    "import pandas as pd\n",
    "import numpy as np\n",
    "from IPython.display import display, HTML\n",
    "import datetime\n",
    "import matplotlib.pyplot as plt\n",
    "from wordcloud import WordCloud, STOPWORDS \n"
   ]
  },
  {
   "cell_type": "code",
   "execution_count": 2,
   "metadata": {},
   "outputs": [],
   "source": [
    "pd.options.display.float_format = '{0:,.2f}'.format\n",
    "pd.set_option('display.max_columns', 500)\n",
    "\n",
    "# File to Load \n",
    "#fire_data_to_load = \"Fire_Department_Calls_for_Service.csv\"\n",
    "fire_data_to_load = \"Resources/Fire_Department_Calls_for_Service.csv\"\n",
    "\n",
    "fields = [\"Incident Number\",\"Call Date\",\"Call Type\", \"Call Type Group\",\"Address\",\"Supervisor District\",\"Location\"]\n",
    "\n",
    "\n",
    "fire_data = pd.read_csv(fire_data_to_load,usecols=fields, dtype={\n",
    " \"Incident Number\" : object,\n",
    " \"Call Date\" : object,\n",
    " \"Call Type\" : object,\n",
    " \"Call Type Group\" : object,\n",
    " \"Address\" : object,\n",
    " \"Supervisor District\" : object,\n",
    " \"Location\" : object}\n",
    " )\n"
   ]
  },
  {
   "cell_type": "code",
   "execution_count": null,
   "metadata": {},
   "outputs": [],
   "source": [
    "# View the data\n",
    "#fire_data.head()"
   ]
  },
  {
   "cell_type": "code",
   "execution_count": 3,
   "metadata": {},
   "outputs": [],
   "source": [
    "fire_data['Year'] = pd.DatetimeIndex(fire_data['Call Date']).year\n",
    "#fire_data.dtypes"
   ]
  },
  {
   "cell_type": "code",
   "execution_count": 5,
   "metadata": {},
   "outputs": [],
   "source": [
    "fire_data_year_selected = fire_data.loc[(fire_data[\"Year\"] >= 2006) & (fire_data[\"Year\"] <= 2018)]\n",
    "#fire_data_year"
   ]
  },
  {
   "cell_type": "code",
   "execution_count": 6,
   "metadata": {},
   "outputs": [
    {
     "data": {
      "text/plain": [
       "array(['Potentially Life-Threatening', 'Fire', 'Alarm',\n",
       "       'Non Life-threatening', nan], dtype=object)"
      ]
     },
     "execution_count": 6,
     "metadata": {},
     "output_type": "execute_result"
    }
   ],
   "source": [
    "#Analyze data - Get all possible values for Use Definition\n",
    "call_type_list = fire_data_year_selected[\"Call Type Group\"].unique()\n",
    "call_type_list"
   ]
  },
  {
   "cell_type": "code",
   "execution_count": 7,
   "metadata": {},
   "outputs": [],
   "source": [
    "fire_data_noDups = fire_data_year_selected.drop_duplicates([\"Incident Number\"])"
   ]
  },
  {
   "cell_type": "code",
   "execution_count": 8,
   "metadata": {},
   "outputs": [
    {
     "data": {
      "text/html": [
       "<div>\n",
       "<style scoped>\n",
       "    .dataframe tbody tr th:only-of-type {\n",
       "        vertical-align: middle;\n",
       "    }\n",
       "\n",
       "    .dataframe tbody tr th {\n",
       "        vertical-align: top;\n",
       "    }\n",
       "\n",
       "    .dataframe thead th {\n",
       "        text-align: right;\n",
       "    }\n",
       "</style>\n",
       "<table border=\"1\" class=\"dataframe\">\n",
       "  <thead>\n",
       "    <tr style=\"text-align: right;\">\n",
       "      <th></th>\n",
       "      <th>Incident Number</th>\n",
       "      <th>Call Type</th>\n",
       "      <th>Call Date</th>\n",
       "      <th>Address</th>\n",
       "      <th>Call Type Group</th>\n",
       "      <th>Supervisor District</th>\n",
       "      <th>Location</th>\n",
       "      <th>Year</th>\n",
       "    </tr>\n",
       "  </thead>\n",
       "  <tbody>\n",
       "    <tr>\n",
       "      <th>149011</th>\n",
       "      <td>18153403</td>\n",
       "      <td>Medical Incident</td>\n",
       "      <td>12/31/2018</td>\n",
       "      <td>0 Block of 6TH ST</td>\n",
       "      <td>Potentially Life-Threatening</td>\n",
       "      <td>6</td>\n",
       "      <td>(37.78114586126, -122.409026046516)</td>\n",
       "      <td>2018</td>\n",
       "    </tr>\n",
       "    <tr>\n",
       "      <th>149013</th>\n",
       "      <td>18153402</td>\n",
       "      <td>Outside Fire</td>\n",
       "      <td>12/31/2018</td>\n",
       "      <td>HAIGHT ST/ASHBURY ST</td>\n",
       "      <td>Fire</td>\n",
       "      <td>5</td>\n",
       "      <td>(37.770007605724, -122.446933818288)</td>\n",
       "      <td>2018</td>\n",
       "    </tr>\n",
       "    <tr>\n",
       "      <th>149014</th>\n",
       "      <td>18153401</td>\n",
       "      <td>Medical Incident</td>\n",
       "      <td>12/31/2018</td>\n",
       "      <td>400 Block of CARL ST</td>\n",
       "      <td>Potentially Life-Threatening</td>\n",
       "      <td>5</td>\n",
       "      <td>(37.76467688189, -122.45777819403)</td>\n",
       "      <td>2018</td>\n",
       "    </tr>\n",
       "    <tr>\n",
       "      <th>149017</th>\n",
       "      <td>18153400</td>\n",
       "      <td>Alarms</td>\n",
       "      <td>12/31/2018</td>\n",
       "      <td>800 Block of CLAYTON ST</td>\n",
       "      <td>Alarm</td>\n",
       "      <td>5</td>\n",
       "      <td>(37.766548172887, -122.447850161714)</td>\n",
       "      <td>2018</td>\n",
       "    </tr>\n",
       "    <tr>\n",
       "      <th>149020</th>\n",
       "      <td>18153399</td>\n",
       "      <td>Medical Incident</td>\n",
       "      <td>12/31/2018</td>\n",
       "      <td>SUTTER ST/POLK ST</td>\n",
       "      <td>Non Life-threatening</td>\n",
       "      <td>3</td>\n",
       "      <td>(37.787756652528, -122.420116076828)</td>\n",
       "      <td>2018</td>\n",
       "    </tr>\n",
       "  </tbody>\n",
       "</table>\n",
       "</div>"
      ],
      "text/plain": [
       "       Incident Number         Call Type   Call Date                  Address  \\\n",
       "149011        18153403  Medical Incident  12/31/2018        0 Block of 6TH ST   \n",
       "149013        18153402      Outside Fire  12/31/2018     HAIGHT ST/ASHBURY ST   \n",
       "149014        18153401  Medical Incident  12/31/2018     400 Block of CARL ST   \n",
       "149017        18153400            Alarms  12/31/2018  800 Block of CLAYTON ST   \n",
       "149020        18153399  Medical Incident  12/31/2018        SUTTER ST/POLK ST   \n",
       "\n",
       "                     Call Type Group Supervisor District  \\\n",
       "149011  Potentially Life-Threatening                   6   \n",
       "149013                          Fire                   5   \n",
       "149014  Potentially Life-Threatening                   5   \n",
       "149017                         Alarm                   5   \n",
       "149020          Non Life-threatening                   3   \n",
       "\n",
       "                                    Location  Year  \n",
       "149011   (37.78114586126, -122.409026046516)  2018  \n",
       "149013  (37.770007605724, -122.446933818288)  2018  \n",
       "149014    (37.76467688189, -122.45777819403)  2018  \n",
       "149017  (37.766548172887, -122.447850161714)  2018  \n",
       "149020  (37.787756652528, -122.420116076828)  2018  "
      ]
     },
     "execution_count": 8,
     "metadata": {},
     "output_type": "execute_result"
    }
   ],
   "source": [
    "fire_data_noDups.head()"
   ]
  },
  {
   "cell_type": "code",
   "execution_count": null,
   "metadata": {},
   "outputs": [],
   "source": [
    "\n",
    "#fire_data_noDups2.dtypes\n",
    "#WORD CLOUD for Call Type#"
   ]
  },
  {
   "cell_type": "code",
   "execution_count": null,
   "metadata": {},
   "outputs": [],
   "source": [
    "supervisor_districts = {\n",
    "1  : \"1-Richmond, Golden Gate Park\",\n",
    "2  : \"2-Marina, Pacific Heights\",\n",
    "3  : \"3-North Beach, Chinatown, Financial District\",\n",
    "4  : \"4-Sunset\",\n",
    "5  : \"5-Haight, Fillmore, Hayes Valley\",\n",
    "6  : \"6-Union Square, Tenderloin, Civic Center, SOMA\",\n",
    "7  : \"7-West Portal, St. Francis Wood, Stonestown\",\n",
    "8  : \"8-The Castro, Noe Valley, Twin Peaks\",\n",
    "9  : \"9-Mission District, Bernal Heights\",\n",
    "10 : \"10-Potrero Hill, Bayview-Hunters Point\",\n",
    "11 : \"11-Excelsior,  Ingleside, Outer Mission\",\n",
    "}"
   ]
  },
  {
   "cell_type": "code",
   "execution_count": 9,
   "metadata": {},
   "outputs": [],
   "source": [
    "#CALLS TYPE OVER TIME\n",
    "fire_data_calltype_solo= fire_data_noDups.pivot_table(index=\"Call Type\", values='Incident Number', aggfunc=np.size)\n",
    "fire_data_calltype_solo2 = pd.DataFrame(fire_data_calltype_solo)\n",
    "#fire_data_calltype_solo2.head()\n",
    "#fire_data_calltype_solo['Incident Number']"
   ]
  },
  {
   "cell_type": "code",
   "execution_count": null,
   "metadata": {},
   "outputs": [],
   "source": [
    "#Cloud Bubble\n",
    "d = {}\n",
    "#for series its. items() and for dataframe its iterrows()\n",
    "for a, x in fire_data_calltype_solo['Incident Number'].items():\n",
    "    d[a] = x\n",
    "    \n",
    "plt.figure( figsize=(20,10) )\n",
    "\n",
    "wordcloud = WordCloud(background_color='white') \n",
    "wordcloud.generate_from_frequencies(frequencies=d)\n",
    "plt.imshow(wordcloud, interpolation=\"bilinear\")\n",
    "#plt.figure(figsize=(16,16), facecolor='k')\n",
    "#plt.imshow(wordcloud, interpolation=\"bilinear\")\n",
    "plt.axis(\"off\")\n",
    "#plt.tight_layout(pad=0)\n",
    "plt.show()"
   ]
  },
  {
   "cell_type": "code",
   "execution_count": null,
   "metadata": {},
   "outputs": [],
   "source": []
  },
  {
   "cell_type": "code",
   "execution_count": 11,
   "metadata": {},
   "outputs": [
    {
     "data": {
      "text/html": [
       "<div>\n",
       "<style scoped>\n",
       "    .dataframe tbody tr th:only-of-type {\n",
       "        vertical-align: middle;\n",
       "    }\n",
       "\n",
       "    .dataframe tbody tr th {\n",
       "        vertical-align: top;\n",
       "    }\n",
       "\n",
       "    .dataframe thead th {\n",
       "        text-align: right;\n",
       "    }\n",
       "</style>\n",
       "<table border=\"1\" class=\"dataframe\">\n",
       "  <thead>\n",
       "    <tr style=\"text-align: right;\">\n",
       "      <th>Call Type Group</th>\n",
       "      <th>Alarm</th>\n",
       "      <th>Fire</th>\n",
       "      <th>Non Life-threatening</th>\n",
       "      <th>Potentially Life-Threatening</th>\n",
       "    </tr>\n",
       "    <tr>\n",
       "      <th>Year</th>\n",
       "      <th></th>\n",
       "      <th></th>\n",
       "      <th></th>\n",
       "      <th></th>\n",
       "    </tr>\n",
       "  </thead>\n",
       "  <tbody>\n",
       "    <tr>\n",
       "      <th>2010</th>\n",
       "      <td>nan</td>\n",
       "      <td>nan</td>\n",
       "      <td>nan</td>\n",
       "      <td>1.00</td>\n",
       "    </tr>\n",
       "    <tr>\n",
       "      <th>2011</th>\n",
       "      <td>nan</td>\n",
       "      <td>nan</td>\n",
       "      <td>2.00</td>\n",
       "      <td>nan</td>\n",
       "    </tr>\n",
       "    <tr>\n",
       "      <th>2012</th>\n",
       "      <td>24,880.00</td>\n",
       "      <td>4,023.00</td>\n",
       "      <td>36,522.00</td>\n",
       "      <td>55,218.00</td>\n",
       "    </tr>\n",
       "    <tr>\n",
       "      <th>2013</th>\n",
       "      <td>25,016.00</td>\n",
       "      <td>3,070.00</td>\n",
       "      <td>38,112.00</td>\n",
       "      <td>55,560.00</td>\n",
       "    </tr>\n",
       "    <tr>\n",
       "      <th>2014</th>\n",
       "      <td>25,793.00</td>\n",
       "      <td>2,956.00</td>\n",
       "      <td>38,886.00</td>\n",
       "      <td>57,048.00</td>\n",
       "    </tr>\n",
       "    <tr>\n",
       "      <th>2015</th>\n",
       "      <td>25,690.00</td>\n",
       "      <td>3,206.00</td>\n",
       "      <td>43,771.00</td>\n",
       "      <td>62,726.00</td>\n",
       "    </tr>\n",
       "    <tr>\n",
       "      <th>2016</th>\n",
       "      <td>26,061.00</td>\n",
       "      <td>3,111.00</td>\n",
       "      <td>48,475.00</td>\n",
       "      <td>64,218.00</td>\n",
       "    </tr>\n",
       "    <tr>\n",
       "      <th>2017</th>\n",
       "      <td>25,812.00</td>\n",
       "      <td>3,351.00</td>\n",
       "      <td>52,110.00</td>\n",
       "      <td>67,038.00</td>\n",
       "    </tr>\n",
       "    <tr>\n",
       "      <th>2018</th>\n",
       "      <td>25,744.00</td>\n",
       "      <td>3,534.00</td>\n",
       "      <td>53,747.00</td>\n",
       "      <td>66,067.00</td>\n",
       "    </tr>\n",
       "  </tbody>\n",
       "</table>\n",
       "</div>"
      ],
      "text/plain": [
       "Call Type Group     Alarm     Fire  Non Life-threatening  \\\n",
       "Year                                                       \n",
       "2010                  nan      nan                   nan   \n",
       "2011                  nan      nan                  2.00   \n",
       "2012            24,880.00 4,023.00             36,522.00   \n",
       "2013            25,016.00 3,070.00             38,112.00   \n",
       "2014            25,793.00 2,956.00             38,886.00   \n",
       "2015            25,690.00 3,206.00             43,771.00   \n",
       "2016            26,061.00 3,111.00             48,475.00   \n",
       "2017            25,812.00 3,351.00             52,110.00   \n",
       "2018            25,744.00 3,534.00             53,747.00   \n",
       "\n",
       "Call Type Group  Potentially Life-Threatening  \n",
       "Year                                           \n",
       "2010                                     1.00  \n",
       "2011                                      nan  \n",
       "2012                                55,218.00  \n",
       "2013                                55,560.00  \n",
       "2014                                57,048.00  \n",
       "2015                                62,726.00  \n",
       "2016                                64,218.00  \n",
       "2017                                67,038.00  \n",
       "2018                                66,067.00  "
      ]
     },
     "execution_count": 11,
     "metadata": {},
     "output_type": "execute_result"
    }
   ],
   "source": [
    "# CALL TYPE Group OVER TIME\n",
    "fire_data_calltype= fire_data_noDups.pivot_table(index=\"Year\", columns=\"Call Type Group\", values='Incident Number', aggfunc=np.size)\n",
    "fire_data_calltype.head(200)"
   ]
  },
  {
   "cell_type": "code",
   "execution_count": null,
   "metadata": {},
   "outputs": [],
   "source": [
    "# #PLOT OF Calls OVER TIME\n",
    "# plt = fire_data_calltype.plot()\n",
    "\n",
    "# plt.show()"
   ]
  },
  {
   "cell_type": "code",
   "execution_count": null,
   "metadata": {},
   "outputs": [],
   "source": [
    "ax = fire_data_calltype.plot.bar(stacked=True, figsize=(12,8), legend = False)\n",
    "plt.legend((fire_data_calltype.columns.tolist()),  bbox_to_anchor=(1.02, 1.0))\n",
    "\n",
    "# Complete formatting the plot\n",
    "plt.title(\"Fire Department Call Types 20012-2018\")\n",
    "plt.xlabel(\"Year\")\n",
    "plt.ylabel(\"Number of Calls\")\n",
    "plt.grid(linestyle='-', color = 'gray')\n",
    "\n",
    "ax.get_yaxis().set_major_formatter(\n",
    "  plt.FuncFormatter(lambda x, p: format(int(x), ',')))\n",
    "\n",
    "plt.show()"
   ]
  },
  {
   "cell_type": "code",
   "execution_count": null,
   "metadata": {},
   "outputs": [],
   "source": [
    "# DISTRICT OVER TIME\n",
    "fire_data_districtovertime= fire_data_noDups2.pivot_table(index=\"Year\", columns=\"Supervisor District\", values='Incident Number', aggfunc=np.size)\n",
    "fire_data_districtovertime.head()"
   ]
  },
  {
   "cell_type": "code",
   "execution_count": null,
   "metadata": {},
   "outputs": [],
   "source": [
    "plt = fire_data_districtovertime.plot()\n",
    "plt.legend(list(supervisor_districts.values()), bbox_to_anchor=(1.2, 1.0))\n",
    "plt.title(\"Calls to Fire Department 2006-2018\")\n",
    "\n",
    "plt.show()"
   ]
  },
  {
   "cell_type": "code",
   "execution_count": null,
   "metadata": {},
   "outputs": [],
   "source": [
    "ax = fire_data_districtovertime.plot.bar(stacked=True, figsize=(12,8), legend = False)\n",
    "#plt.legend((fire_data_districtovertime.columns.tolist()),  bbox_to_anchor=(1.05, 1.0))\n",
    "plt.legend(list(supervisor_districts.values()), bbox_to_anchor=(1.05, 1.0))\n",
    "\n",
    "# Complete formatting the plot\n",
    "plt.title('District Calls to the Fire Department 2012-2018')\n",
    "plt.xlabel(\"Year\")\n",
    "plt.ylabel(\"Number of Calls\")\n",
    "plt.grid(linestyle='-', color = 'gray')\n",
    "\n",
    "ax.get_yaxis().set_major_formatter(\n",
    "  plt.FuncFormatter(lambda x, p: format(int(x), ',')))\n",
    "\n",
    "plt.show()"
   ]
  },
  {
   "cell_type": "code",
   "execution_count": null,
   "metadata": {},
   "outputs": [],
   "source": [
    "count = fire_data_noDups2.groupby([\"Call Type Group\"]).count()\n",
    "count\n",
    "#count_df = pd.DataFrame({\"Call Type Group\": \"Call Number\"})\n",
    "#count_df.head()\n",
    "#plt.pie(count[\"Call Number\"].count)  \n",
    "#plt.show()"
   ]
  },
  {
   "cell_type": "code",
   "execution_count": null,
   "metadata": {},
   "outputs": [],
   "source": [
    "# #Data Frame by Year, District, Call Type, Number of Incidents\n",
    "# District_Count = pd.DataFrame({\"Number of Incidents\": count[\"Incident Number\"]})\n",
    "# District_Count\n"
   ]
  },
  {
   "cell_type": "code",
   "execution_count": null,
   "metadata": {},
   "outputs": [],
   "source": [
    "# #Taking no dups tavle into a pivot --> essentially the same as the District Count DF\n",
    "# #Pivot fire_data_year (incident numbe) dataframe by Supervisor District\n",
    "# # fire_data_clean_grouped_pivot = fire_data_noDups.pivot(index=\"Year\", columns=[\"Supervisor District\"])\n",
    "# fire_data_clean_grouped_pivot = fire_data_noDups2.pivot_table(index=\"Year\", columns=[\"Supervisor District\", \"Call Type\"], values='Incident Number', aggfunc=np.size)\n",
    "\n",
    "# fire_data_clean_grouped_pivot.head()"
   ]
  },
  {
   "cell_type": "code",
   "execution_count": null,
   "metadata": {},
   "outputs": [],
   "source": [
    "# #Pivot fire_data_year (incident numbe) dataframe by Supervisor District\n",
    "# # fire_data_clean_grouped_pivot = fire_data_noDups.pivot(index=\"Year\", columns=[\"Supervisor District\"])\n",
    "# fire_data_clean_grouped_pivot = fire_data_noDups2.pivot_table(index=\"Year\", columns=[\"Supervisor District\", \"Call Type\"], values='Incident Number', aggfunc=np.size)\n",
    "\n",
    "# fire_data_clean_grouped_pivot.head()"
   ]
  },
  {
   "cell_type": "code",
   "execution_count": null,
   "metadata": {},
   "outputs": [],
   "source": [
    "# Function to parse the coordinates into a tuple \n",
    "def to_gis (x, y):\n",
    "    yy = ()\n",
    "    yy = yy + (x,)\n",
    "    yy = yy + (y,)\n",
    "    return tuple(yy)\n",
    "\n",
    "\n",
    "def lat(x):\n",
    "    try:\n",
    "        xx = x.replace(\"(\",\"\")\n",
    "        xx = xx.replace(\")\",\"\")\n",
    "        xx = xx.replace(\" \",\"\")\n",
    "        yy = xx.split(\",\")\n",
    "        zz = round(float(yy[0]),3)\n",
    "        return zz\n",
    "    except:\n",
    "        print (zz)\n",
    "        return 0\n",
    "\n",
    "def lon(x):\n",
    "    try:\n",
    "        xx = x.replace(\"(\",\"\")\n",
    "        xx = xx.replace(\")\",\"\")\n",
    "        xx = xx.replace(\" \",\"\")\n",
    "        yy = xx.split(\",\")\n",
    "        zz = round(float(yy[1]),3)\n",
    "        return zz\n",
    "    except:\n",
    "        print (zz)\n",
    "        return 0\n",
    "\n",
    "fire = fire_data[\"Incident Number\"].loc[(fire_data[\"Year\"] == 2018) & (fire_data[\"Supervisor District\"] == \"1\")]\n",
    "fire[\"latx\"] = fire_data[\"Location\"].map(lat)\n",
    "fire[\"lonx\"] = fire_data[\"Location\"].map(lon)\n",
    "\n",
    "data_slice_group=fire.groupby([\"latx\",\"lonx\"]).agg(\n",
    "    {\"Incident Number\" : \"count\"\n",
    "    })\n",
    "data_slice_group.head()"
   ]
  },
  {
   "cell_type": "code",
   "execution_count": 9,
   "metadata": {},
   "outputs": [
    {
     "data": {
      "text/html": [
       "<div>\n",
       "<style scoped>\n",
       "    .dataframe tbody tr th:only-of-type {\n",
       "        vertical-align: middle;\n",
       "    }\n",
       "\n",
       "    .dataframe tbody tr th {\n",
       "        vertical-align: top;\n",
       "    }\n",
       "\n",
       "    .dataframe thead th {\n",
       "        text-align: right;\n",
       "    }\n",
       "</style>\n",
       "<table border=\"1\" class=\"dataframe\">\n",
       "  <thead>\n",
       "    <tr style=\"text-align: right;\">\n",
       "      <th></th>\n",
       "      <th></th>\n",
       "      <th>Incident Number</th>\n",
       "    </tr>\n",
       "    <tr>\n",
       "      <th>latx</th>\n",
       "      <th>lonx</th>\n",
       "      <th></th>\n",
       "    </tr>\n",
       "  </thead>\n",
       "  <tbody>\n",
       "    <tr>\n",
       "      <th rowspan=\"5\" valign=\"top\">37.79</th>\n",
       "      <th>-122.47</th>\n",
       "      <td>8</td>\n",
       "    </tr>\n",
       "    <tr>\n",
       "      <th>-122.47</th>\n",
       "      <td>14</td>\n",
       "    </tr>\n",
       "    <tr>\n",
       "      <th>-122.47</th>\n",
       "      <td>8</td>\n",
       "    </tr>\n",
       "    <tr>\n",
       "      <th>-122.47</th>\n",
       "      <td>2</td>\n",
       "    </tr>\n",
       "    <tr>\n",
       "      <th>-122.47</th>\n",
       "      <td>11</td>\n",
       "    </tr>\n",
       "  </tbody>\n",
       "</table>\n",
       "</div>"
      ],
      "text/plain": [
       "               Incident Number\n",
       "latx  lonx                    \n",
       "37.79 -122.47                8\n",
       "      -122.47               14\n",
       "      -122.47                8\n",
       "      -122.47                2\n",
       "      -122.47               11"
      ]
     },
     "execution_count": 9,
     "metadata": {},
     "output_type": "execute_result"
    }
   ],
   "source": [
    "data_slice_group.tail()"
   ]
  },
  {
   "cell_type": "code",
   "execution_count": 11,
   "metadata": {},
   "outputs": [
    {
     "ename": "KeyError",
     "evalue": "'latx'",
     "output_type": "error",
     "traceback": [
      "\u001b[1;31m---------------------------------------------------------------------------\u001b[0m",
      "\u001b[1;31mTypeError\u001b[0m                                 Traceback (most recent call last)",
      "\u001b[1;32mC:\\ProgramData\\Anaconda3\\lib\\site-packages\\pandas\\core\\indexes\\base.py\u001b[0m in \u001b[0;36mget_value\u001b[1;34m(self, series, key)\u001b[0m\n\u001b[0;32m   4380\u001b[0m             \u001b[1;32mtry\u001b[0m\u001b[1;33m:\u001b[0m\u001b[1;33m\u001b[0m\u001b[1;33m\u001b[0m\u001b[0m\n\u001b[1;32m-> 4381\u001b[1;33m                 \u001b[1;32mreturn\u001b[0m \u001b[0mlibindex\u001b[0m\u001b[1;33m.\u001b[0m\u001b[0mget_value_box\u001b[0m\u001b[1;33m(\u001b[0m\u001b[0ms\u001b[0m\u001b[1;33m,\u001b[0m \u001b[0mkey\u001b[0m\u001b[1;33m)\u001b[0m\u001b[1;33m\u001b[0m\u001b[1;33m\u001b[0m\u001b[0m\n\u001b[0m\u001b[0;32m   4382\u001b[0m             \u001b[1;32mexcept\u001b[0m \u001b[0mIndexError\u001b[0m\u001b[1;33m:\u001b[0m\u001b[1;33m\u001b[0m\u001b[1;33m\u001b[0m\u001b[0m\n",
      "\u001b[1;32mpandas/_libs/index.pyx\u001b[0m in \u001b[0;36mpandas._libs.index.get_value_box\u001b[1;34m()\u001b[0m\n",
      "\u001b[1;32mpandas/_libs/index.pyx\u001b[0m in \u001b[0;36mpandas._libs.index.get_value_at\u001b[1;34m()\u001b[0m\n",
      "\u001b[1;32mpandas/_libs/util.pxd\u001b[0m in \u001b[0;36mpandas._libs.util.get_value_at\u001b[1;34m()\u001b[0m\n",
      "\u001b[1;32mpandas/_libs/util.pxd\u001b[0m in \u001b[0;36mpandas._libs.util.validate_indexer\u001b[1;34m()\u001b[0m\n",
      "\u001b[1;31mTypeError\u001b[0m: 'str' object cannot be interpreted as an integer",
      "\nDuring handling of the above exception, another exception occurred:\n",
      "\u001b[1;31mKeyError\u001b[0m                                  Traceback (most recent call last)",
      "\u001b[1;32m<ipython-input-11-fd3c9a914a4c>\u001b[0m in \u001b[0;36m<module>\u001b[1;34m\u001b[0m\n\u001b[0;32m      2\u001b[0m \u001b[0mproperty_list\u001b[0m \u001b[1;33m=\u001b[0m \u001b[1;33m[\u001b[0m\u001b[1;33m]\u001b[0m\u001b[1;33m\u001b[0m\u001b[1;33m\u001b[0m\u001b[0m\n\u001b[0;32m      3\u001b[0m \u001b[1;32mfor\u001b[0m \u001b[0mi\u001b[0m \u001b[1;32min\u001b[0m \u001b[0mrange\u001b[0m\u001b[1;33m(\u001b[0m\u001b[0mlen\u001b[0m\u001b[1;33m(\u001b[0m\u001b[0mdata_slice_group\u001b[0m\u001b[1;33m)\u001b[0m\u001b[1;33m)\u001b[0m\u001b[1;33m:\u001b[0m\u001b[1;33m\u001b[0m\u001b[1;33m\u001b[0m\u001b[0m\n\u001b[1;32m----> 4\u001b[1;33m     \u001b[0mproperty_list\u001b[0m\u001b[1;33m.\u001b[0m\u001b[0mappend\u001b[0m\u001b[1;33m(\u001b[0m\u001b[0mto_gis\u001b[0m\u001b[1;33m(\u001b[0m\u001b[0mdata_slice_group\u001b[0m\u001b[1;33m.\u001b[0m\u001b[0miloc\u001b[0m\u001b[1;33m[\u001b[0m\u001b[0mi\u001b[0m\u001b[1;33m]\u001b[0m\u001b[1;33m[\u001b[0m\u001b[1;34m\"latx\"\u001b[0m\u001b[1;33m]\u001b[0m\u001b[1;33m,\u001b[0m\u001b[0mdata_slice_group\u001b[0m\u001b[1;33m.\u001b[0m\u001b[0miloc\u001b[0m\u001b[1;33m[\u001b[0m\u001b[0mi\u001b[0m\u001b[1;33m]\u001b[0m\u001b[1;33m[\u001b[0m\u001b[1;34m\"lonx\"\u001b[0m\u001b[1;33m]\u001b[0m\u001b[1;33m)\u001b[0m\u001b[1;33m)\u001b[0m\u001b[1;33m\u001b[0m\u001b[1;33m\u001b[0m\u001b[0m\n\u001b[0m",
      "\u001b[1;32mC:\\ProgramData\\Anaconda3\\lib\\site-packages\\pandas\\core\\series.py\u001b[0m in \u001b[0;36m__getitem__\u001b[1;34m(self, key)\u001b[0m\n\u001b[0;32m    866\u001b[0m         \u001b[0mkey\u001b[0m \u001b[1;33m=\u001b[0m \u001b[0mcom\u001b[0m\u001b[1;33m.\u001b[0m\u001b[0mapply_if_callable\u001b[0m\u001b[1;33m(\u001b[0m\u001b[0mkey\u001b[0m\u001b[1;33m,\u001b[0m \u001b[0mself\u001b[0m\u001b[1;33m)\u001b[0m\u001b[1;33m\u001b[0m\u001b[1;33m\u001b[0m\u001b[0m\n\u001b[0;32m    867\u001b[0m         \u001b[1;32mtry\u001b[0m\u001b[1;33m:\u001b[0m\u001b[1;33m\u001b[0m\u001b[1;33m\u001b[0m\u001b[0m\n\u001b[1;32m--> 868\u001b[1;33m             \u001b[0mresult\u001b[0m \u001b[1;33m=\u001b[0m \u001b[0mself\u001b[0m\u001b[1;33m.\u001b[0m\u001b[0mindex\u001b[0m\u001b[1;33m.\u001b[0m\u001b[0mget_value\u001b[0m\u001b[1;33m(\u001b[0m\u001b[0mself\u001b[0m\u001b[1;33m,\u001b[0m \u001b[0mkey\u001b[0m\u001b[1;33m)\u001b[0m\u001b[1;33m\u001b[0m\u001b[1;33m\u001b[0m\u001b[0m\n\u001b[0m\u001b[0;32m    869\u001b[0m \u001b[1;33m\u001b[0m\u001b[0m\n\u001b[0;32m    870\u001b[0m             \u001b[1;32mif\u001b[0m \u001b[1;32mnot\u001b[0m \u001b[0mis_scalar\u001b[0m\u001b[1;33m(\u001b[0m\u001b[0mresult\u001b[0m\u001b[1;33m)\u001b[0m\u001b[1;33m:\u001b[0m\u001b[1;33m\u001b[0m\u001b[1;33m\u001b[0m\u001b[0m\n",
      "\u001b[1;32mC:\\ProgramData\\Anaconda3\\lib\\site-packages\\pandas\\core\\indexes\\base.py\u001b[0m in \u001b[0;36mget_value\u001b[1;34m(self, series, key)\u001b[0m\n\u001b[0;32m   4387\u001b[0m                     \u001b[1;32mraise\u001b[0m \u001b[0mInvalidIndexError\u001b[0m\u001b[1;33m(\u001b[0m\u001b[0mkey\u001b[0m\u001b[1;33m)\u001b[0m\u001b[1;33m\u001b[0m\u001b[1;33m\u001b[0m\u001b[0m\n\u001b[0;32m   4388\u001b[0m                 \u001b[1;32melse\u001b[0m\u001b[1;33m:\u001b[0m\u001b[1;33m\u001b[0m\u001b[1;33m\u001b[0m\u001b[0m\n\u001b[1;32m-> 4389\u001b[1;33m                     \u001b[1;32mraise\u001b[0m \u001b[0me1\u001b[0m\u001b[1;33m\u001b[0m\u001b[1;33m\u001b[0m\u001b[0m\n\u001b[0m\u001b[0;32m   4390\u001b[0m             \u001b[1;32mexcept\u001b[0m \u001b[0mException\u001b[0m\u001b[1;33m:\u001b[0m  \u001b[1;31m# pragma: no cover\u001b[0m\u001b[1;33m\u001b[0m\u001b[1;33m\u001b[0m\u001b[0m\n\u001b[0;32m   4391\u001b[0m                 \u001b[1;32mraise\u001b[0m \u001b[0me1\u001b[0m\u001b[1;33m\u001b[0m\u001b[1;33m\u001b[0m\u001b[0m\n",
      "\u001b[1;32mC:\\ProgramData\\Anaconda3\\lib\\site-packages\\pandas\\core\\indexes\\base.py\u001b[0m in \u001b[0;36mget_value\u001b[1;34m(self, series, key)\u001b[0m\n\u001b[0;32m   4373\u001b[0m         \u001b[1;32mtry\u001b[0m\u001b[1;33m:\u001b[0m\u001b[1;33m\u001b[0m\u001b[1;33m\u001b[0m\u001b[0m\n\u001b[0;32m   4374\u001b[0m             return self._engine.get_value(s, k,\n\u001b[1;32m-> 4375\u001b[1;33m                                           tz=getattr(series.dtype, 'tz', None))\n\u001b[0m\u001b[0;32m   4376\u001b[0m         \u001b[1;32mexcept\u001b[0m \u001b[0mKeyError\u001b[0m \u001b[1;32mas\u001b[0m \u001b[0me1\u001b[0m\u001b[1;33m:\u001b[0m\u001b[1;33m\u001b[0m\u001b[1;33m\u001b[0m\u001b[0m\n\u001b[0;32m   4377\u001b[0m             \u001b[1;32mif\u001b[0m \u001b[0mlen\u001b[0m\u001b[1;33m(\u001b[0m\u001b[0mself\u001b[0m\u001b[1;33m)\u001b[0m \u001b[1;33m>\u001b[0m \u001b[1;36m0\u001b[0m \u001b[1;32mand\u001b[0m \u001b[1;33m(\u001b[0m\u001b[0mself\u001b[0m\u001b[1;33m.\u001b[0m\u001b[0mholds_integer\u001b[0m\u001b[1;33m(\u001b[0m\u001b[1;33m)\u001b[0m \u001b[1;32mor\u001b[0m \u001b[0mself\u001b[0m\u001b[1;33m.\u001b[0m\u001b[0mis_boolean\u001b[0m\u001b[1;33m(\u001b[0m\u001b[1;33m)\u001b[0m\u001b[1;33m)\u001b[0m\u001b[1;33m:\u001b[0m\u001b[1;33m\u001b[0m\u001b[1;33m\u001b[0m\u001b[0m\n",
      "\u001b[1;32mpandas/_libs/index.pyx\u001b[0m in \u001b[0;36mpandas._libs.index.IndexEngine.get_value\u001b[1;34m()\u001b[0m\n",
      "\u001b[1;32mpandas/_libs/index.pyx\u001b[0m in \u001b[0;36mpandas._libs.index.IndexEngine.get_value\u001b[1;34m()\u001b[0m\n",
      "\u001b[1;32mpandas/_libs/index.pyx\u001b[0m in \u001b[0;36mpandas._libs.index.IndexEngine.get_loc\u001b[1;34m()\u001b[0m\n",
      "\u001b[1;32mpandas/_libs/hashtable_class_helper.pxi\u001b[0m in \u001b[0;36mpandas._libs.hashtable.PyObjectHashTable.get_item\u001b[1;34m()\u001b[0m\n",
      "\u001b[1;32mpandas/_libs/hashtable_class_helper.pxi\u001b[0m in \u001b[0;36mpandas._libs.hashtable.PyObjectHashTable.get_item\u001b[1;34m()\u001b[0m\n",
      "\u001b[1;31mKeyError\u001b[0m: 'latx'"
     ]
    }
   ],
   "source": [
    "# Put coordinates of these properties into a list (a list of tuples)\n",
    "property_list = []\n",
    "for i in range(len(data_slice_group)):\n",
    "    property_list.append(to_gis(data_slice_group.iloc[i][\"latx\"],data_slice_group.iloc[i][\"lonx\"]))"
   ]
  },
  {
   "cell_type": "code",
   "execution_count": 8,
   "metadata": {},
   "outputs": [
    {
     "name": "stdout",
     "output_type": "stream",
     "text": [
      "[]\n"
     ]
    }
   ],
   "source": [
    "print (property_list)"
   ]
  },
  {
   "cell_type": "code",
   "execution_count": 50,
   "metadata": {},
   "outputs": [
    {
     "ename": "NameError",
     "evalue": "name 'geo_slice_group' is not defined",
     "output_type": "error",
     "traceback": [
      "\u001b[1;31m---------------------------------------------------------------------------\u001b[0m",
      "\u001b[1;31mNameError\u001b[0m                                 Traceback (most recent call last)",
      "\u001b[1;32m<ipython-input-50-6612d217aeb3>\u001b[0m in \u001b[0;36m<module>\u001b[1;34m\u001b[0m\n\u001b[1;32m----> 1\u001b[1;33m \u001b[0mgeo_slice_group\u001b[0m\u001b[1;33m.\u001b[0m\u001b[0mhead\u001b[0m\u001b[1;33m(\u001b[0m\u001b[1;33m)\u001b[0m\u001b[1;33m\u001b[0m\u001b[1;33m\u001b[0m\u001b[0m\n\u001b[0m",
      "\u001b[1;31mNameError\u001b[0m: name 'geo_slice_group' is not defined"
     ]
    }
   ],
   "source": [
    "geo_slice_group.head()"
   ]
  },
  {
   "cell_type": "code",
   "execution_count": 45,
   "metadata": {},
   "outputs": [
    {
     "data": {
      "text/html": [
       "<div>\n",
       "<style scoped>\n",
       "    .dataframe tbody tr th:only-of-type {\n",
       "        vertical-align: middle;\n",
       "    }\n",
       "\n",
       "    .dataframe tbody tr th {\n",
       "        vertical-align: top;\n",
       "    }\n",
       "\n",
       "    .dataframe thead th {\n",
       "        text-align: right;\n",
       "    }\n",
       "</style>\n",
       "<table border=\"1\" class=\"dataframe\">\n",
       "  <thead>\n",
       "    <tr style=\"text-align: right;\">\n",
       "      <th></th>\n",
       "      <th></th>\n",
       "      <th>Incident Number</th>\n",
       "    </tr>\n",
       "    <tr>\n",
       "      <th>lat</th>\n",
       "      <th>lon</th>\n",
       "      <th></th>\n",
       "    </tr>\n",
       "  </thead>\n",
       "  <tbody>\n",
       "    <tr>\n",
       "      <th rowspan=\"5\" valign=\"top\">37.76</th>\n",
       "      <th>-122.51</th>\n",
       "      <td>1</td>\n",
       "    </tr>\n",
       "    <tr>\n",
       "      <th>-122.51</th>\n",
       "      <td>2</td>\n",
       "    </tr>\n",
       "    <tr>\n",
       "      <th>-122.50</th>\n",
       "      <td>4</td>\n",
       "    </tr>\n",
       "    <tr>\n",
       "      <th>-122.50</th>\n",
       "      <td>3</td>\n",
       "    </tr>\n",
       "    <tr>\n",
       "      <th>-122.50</th>\n",
       "      <td>3</td>\n",
       "    </tr>\n",
       "  </tbody>\n",
       "</table>\n",
       "</div>"
      ],
      "text/plain": [
       "               Incident Number\n",
       "lat   lon                     \n",
       "37.76 -122.51                1\n",
       "      -122.51                2\n",
       "      -122.50                4\n",
       "      -122.50                3\n",
       "      -122.50                3"
      ]
     },
     "execution_count": 45,
     "metadata": {},
     "output_type": "execute_result"
    }
   ],
   "source": [
    "data_slice_group.head()"
   ]
  },
  {
   "cell_type": "code",
   "execution_count": null,
   "metadata": {},
   "outputs": [],
   "source": [
    "\n"
   ]
  },
  {
   "cell_type": "code",
   "execution_count": null,
   "metadata": {
    "scrolled": true
   },
   "outputs": [],
   "source": []
  },
  {
   "cell_type": "code",
   "execution_count": null,
   "metadata": {},
   "outputs": [],
   "source": []
  },
  {
   "cell_type": "code",
   "execution_count": null,
   "metadata": {},
   "outputs": [],
   "source": []
  },
  {
   "cell_type": "code",
   "execution_count": null,
   "metadata": {},
   "outputs": [],
   "source": []
  },
  {
   "cell_type": "code",
   "execution_count": null,
   "metadata": {},
   "outputs": [],
   "source": []
  },
  {
   "cell_type": "code",
   "execution_count": null,
   "metadata": {},
   "outputs": [],
   "source": []
  },
  {
   "cell_type": "code",
   "execution_count": null,
   "metadata": {},
   "outputs": [],
   "source": []
  },
  {
   "cell_type": "code",
   "execution_count": null,
   "metadata": {},
   "outputs": [],
   "source": []
  },
  {
   "cell_type": "code",
   "execution_count": null,
   "metadata": {},
   "outputs": [],
   "source": []
  },
  {
   "cell_type": "code",
   "execution_count": null,
   "metadata": {},
   "outputs": [],
   "source": []
  },
  {
   "cell_type": "code",
   "execution_count": null,
   "metadata": {},
   "outputs": [],
   "source": []
  },
  {
   "cell_type": "code",
   "execution_count": null,
   "metadata": {},
   "outputs": [],
   "source": []
  }
 ],
 "metadata": {
  "anaconda-cloud": {},
  "kernel_info": {
   "name": "python3"
  },
  "kernelspec": {
   "display_name": "Python 3",
   "language": "python",
   "name": "python3"
  },
  "language_info": {
   "codemirror_mode": {
    "name": "ipython",
    "version": 3
   },
   "file_extension": ".py",
   "mimetype": "text/x-python",
   "name": "python",
   "nbconvert_exporter": "python",
   "pygments_lexer": "ipython3",
   "version": "3.7.3"
  },
  "nteract": {
   "version": "0.8.4"
  }
 },
 "nbformat": 4,
 "nbformat_minor": 1
}
